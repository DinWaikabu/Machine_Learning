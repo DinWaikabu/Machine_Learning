{
  "nbformat": 4,
  "nbformat_minor": 0,
  "metadata": {
    "colab": {
      "name": "Prediksi_Saham_PT Wika.ipynb",
      "version": "0.3.2",
      "provenance": [],
      "include_colab_link": true
    },
    "kernelspec": {
      "name": "python3",
      "display_name": "Python 3"
    },
    "accelerator": "GPU"
  },
  "cells": [
    {
      "cell_type": "markdown",
      "metadata": {
        "id": "view-in-github",
        "colab_type": "text"
      },
      "source": [
        "<a href=\"https://colab.research.google.com/github/DinWaikabu/Machine_Learning/blob/master/Prediksi_Saham_PT_Wika.ipynb\" target=\"_parent\"><img src=\"https://colab.research.google.com/assets/colab-badge.svg\" alt=\"Open In Colab\"/></a>"
      ]
    },
    {
      "cell_type": "code",
      "metadata": {
        "id": "sd6PX-7-VM-Y",
        "colab_type": "code",
        "colab": {}
      },
      "source": [
        "import pandas as pd"
      ],
      "execution_count": 0,
      "outputs": []
    },
    {
      "cell_type": "code",
      "metadata": {
        "id": "useXTBtkbey1",
        "colab_type": "code",
        "colab": {
          "base_uri": "https://localhost:8080/",
          "height": 122
        },
        "outputId": "9e9f2108-2ea8-4dd9-fff3-068cfbc58795"
      },
      "source": [
        "from google.colab import drive\n",
        "drive.mount('/content/drive')"
      ],
      "execution_count": 14,
      "outputs": [
        {
          "output_type": "stream",
          "text": [
            "Go to this URL in a browser: https://accounts.google.com/o/oauth2/auth?client_id=947318989803-6bn6qk8qdgf4n4g3pfee6491hc0brc4i.apps.googleusercontent.com&redirect_uri=urn%3Aietf%3Awg%3Aoauth%3A2.0%3Aoob&scope=email%20https%3A%2F%2Fwww.googleapis.com%2Fauth%2Fdocs.test%20https%3A%2F%2Fwww.googleapis.com%2Fauth%2Fdrive%20https%3A%2F%2Fwww.googleapis.com%2Fauth%2Fdrive.photos.readonly%20https%3A%2F%2Fwww.googleapis.com%2Fauth%2Fpeopleapi.readonly&response_type=code\n",
            "\n",
            "Enter your authorization code:\n",
            "··········\n",
            "Mounted at /content/drive\n"
          ],
          "name": "stdout"
        }
      ]
    },
    {
      "cell_type": "code",
      "metadata": {
        "id": "4hts9pCnbzC0",
        "colab_type": "code",
        "colab": {}
      },
      "source": [
        "df= pd.read_csv('/content/drive/My Drive/DATA/wika.csv', delimiter=';')"
      ],
      "execution_count": 0,
      "outputs": []
    },
    {
      "cell_type": "code",
      "metadata": {
        "id": "cx-WMkdocLvi",
        "colab_type": "code",
        "colab": {
          "base_uri": "https://localhost:8080/",
          "height": 119
        },
        "outputId": "5b0bcd95-9346-4aed-a824-f05df8f55f8f"
      },
      "source": [
        "print(df.head())"
      ],
      "execution_count": 79,
      "outputs": [
        {
          "output_type": "stream",
          "text": [
            "      Tanggal  Terakhir  Pembukaan  Tertinggi  Terendah    Vol. Perubahan%\n",
            "0  26/11/2018     1.390      1.375      1.410     1.375  14,59M      1,09%\n",
            "1  23/11/2018     1.375      1.380      1.390     1.345  20,10M      0,36%\n",
            "2  22/11/2018     1.370      1.295      1.385     1.290  71,89M      6,20%\n",
            "3  21/11/2018     1.290      1.250      1.300     1.230  28,41M      1,18%\n",
            "4  19/11/2018     1.275      1.225      1.290     1.225  34,64M      4,08%\n"
          ],
          "name": "stdout"
        }
      ]
    },
    {
      "cell_type": "code",
      "metadata": {
        "id": "2Wrnta3-m0hJ",
        "colab_type": "code",
        "colab": {
          "base_uri": "https://localhost:8080/",
          "height": 119
        },
        "outputId": "3c9f5e99-6338-4475-b01a-f4aec05d8f1b"
      },
      "source": [
        "df['Tanggal'] = pd.to_datetime(df['Tanggal'])\n",
        "df.sort_values(by='Tanggal', ascending=True, inplace=True)\n",
        "print(df.head())"
      ],
      "execution_count": 87,
      "outputs": [
        {
          "output_type": "stream",
          "text": [
            "       Tanggal  Terakhir  Pembukaan  Tertinggi  Terendah    Vol. Perubahan%\n",
            "497 2016-01-11     2.352      2.408      2.408     2.334   7,63M     -1,18%\n",
            "475 2016-01-12     2.410      2.440      2.440     2.380  13,07M     -0,82%\n",
            "496 2016-02-11     2.297      2.352      2.352     2.278  14,58M     -2,34%\n",
            "474 2016-02-12     2.450      2.410      2.470     2.390  14,11M      1,66%\n",
            "495 2016-03-11     2.260      2.297      2.334     2.250  15,97M     -1,61%\n"
          ],
          "name": "stdout"
        }
      ]
    },
    {
      "cell_type": "code",
      "metadata": {
        "id": "ttuUkdV6nkmu",
        "colab_type": "code",
        "colab": {
          "base_uri": "https://localhost:8080/",
          "height": 119
        },
        "outputId": "332e2ba0-4f34-47ca-f6bb-de54399de2a6"
      },
      "source": [
        "print(df.tail())"
      ],
      "execution_count": 90,
      "outputs": [
        {
          "output_type": "stream",
          "text": [
            "       Tanggal  Terakhir  Pembukaan  Tertinggi  Terendah    Vol. Perubahan%\n",
            "147 2018-12-04     1.700      1.735      1.740     1.700  15,22M     -1,45%\n",
            "93  2018-12-07     1.355      1.345      1.395     1.345  11,08M      1,12%\n",
            "52  2018-12-09     1.425      1.455      1.465     1.425   5,81M     -0,70%\n",
            "30  2018-12-10     1.290      1.285      1.300     1.270   5,32M      1,57%\n",
            "9   2018-12-11     1.170      1.205      1.225     1.165  16,46M     -2,90%\n"
          ],
          "name": "stdout"
        }
      ]
    },
    {
      "cell_type": "code",
      "metadata": {
        "id": "Uk42VnNCn4Kn",
        "colab_type": "code",
        "colab": {}
      },
      "source": [
        "df.set_index('Tanggal', inplace=True)"
      ],
      "execution_count": 0,
      "outputs": []
    },
    {
      "cell_type": "code",
      "metadata": {
        "id": "ElKPZhjnpzlD",
        "colab_type": "code",
        "colab": {
          "base_uri": "https://localhost:8080/",
          "height": 298
        },
        "outputId": "77bd656c-0609-45fb-e2fb-3c1069798616"
      },
      "source": [
        "print(df['Terakhir'].plot())"
      ],
      "execution_count": 93,
      "outputs": [
        {
          "output_type": "stream",
          "text": [
            "AxesSubplot(0.125,0.2;0.775x0.68)\n"
          ],
          "name": "stdout"
        },
        {
          "output_type": "display_data",
          "data": {
            "image/png": "[encoded data removed]",
            "text/plain": [
              "<Figure size 432x288 with 1 Axes>"
            ]
          },
          "metadata": {
            "tags": []
          }
        }
      ]
    }
  ]
}