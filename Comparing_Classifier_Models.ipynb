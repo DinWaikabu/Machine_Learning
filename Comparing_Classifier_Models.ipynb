{
  "nbformat": 4,
  "nbformat_minor": 0,
  "metadata": {
    "colab": {
      "name": "Comparing Classifier for Building Clasification Models.ipynb",
      "provenance": [],
      "toc_visible": true,
      "authorship_tag": "ABX9TyMo/kOaN7HSuwlZjl5zlkIP",
      "include_colab_link": true
    },
    "kernelspec": {
      "name": "python3",
      "display_name": "Python 3"
    }
  },
  "cells": [
    {
      "cell_type": "markdown",
      "metadata": {
        "id": "view-in-github",
        "colab_type": "text"
      },
      "source": [
        "<a href=\"https://colab.research.google.com/github/DinWaikabu/Machine_Learning/blob/master/Comparing_Classifier_Models.ipynb\" target=\"_parent\"><img src=\"https://colab.research.google.com/assets/colab-badge.svg\" alt=\"Open In Colab\"/></a>"
      ]
    },
    {
      "cell_type": "markdown",
      "metadata": {
        "id": "T2XVIkSPeEwI"
      },
      "source": [
        "## Comparing Classifier for Building Clasification Models"
      ]
    },
    {
      "cell_type": "markdown",
      "metadata": {
        "id": "eDtjLmPbhzel"
      },
      "source": [
        "### **Import Library**"
      ]
    },
    {
      "cell_type": "code",
      "metadata": {
        "id": "Y9z_LL_XeSfI"
      },
      "source": [
        "from sklearn.datasets import  make_classification"
      ],
      "execution_count": 4,
      "outputs": []
    },
    {
      "cell_type": "markdown",
      "metadata": {
        "id": "POvMUQ7QT2pk"
      },
      "source": [
        "###**Generate dataset**"
      ]
    },
    {
      "cell_type": "code",
      "metadata": {
        "id": "jUjfUiL3UJ2r"
      },
      "source": [
        "X, y = make_classification(n_samples=800, n_classes=2 ,n_features=6, n_redundant=0, random_state=0)"
      ],
      "execution_count": 6,
      "outputs": []
    },
    {
      "cell_type": "markdown",
      "metadata": {
        "id": "8F-3gTrcVaWb"
      },
      "source": [
        "#### Dimensi dataset"
      ]
    },
    {
      "cell_type": "code",
      "metadata": {
        "colab": {
          "base_uri": "https://localhost:8080/"
        },
        "id": "y6h6GiSQVTqz",
        "outputId": "6ed80da4-8b00-469e-ae82-c1f4d43011d7"
      },
      "source": [
        "X.shape, y.shape"
      ],
      "execution_count": 27,
      "outputs": [
        {
          "output_type": "execute_result",
          "data": {
            "text/plain": [
              "((800, 6), (800,))"
            ]
          },
          "metadata": {
            "tags": []
          },
          "execution_count": 27
        }
      ]
    },
    {
      "cell_type": "code",
      "metadata": {
        "colab": {
          "base_uri": "https://localhost:8080/"
        },
        "id": "KPp4I3x9U0Re",
        "outputId": "a9855743-c4b7-4321-e791-4e099c9a623f"
      },
      "source": [
        "print(\"features : \", X)\n",
        "print(\"Label: \", y)"
      ],
      "execution_count": 31,
      "outputs": [
        {
          "output_type": "stream",
          "text": [
            "features :  [[-1.08424537  1.07371211  0.63658677  1.43144325 -0.06656285  0.03232998]\n",
            " [-0.68105767 -0.03820798 -0.98045925  0.15706946 -0.56776724 -0.59115967]\n",
            " [ 2.2301304   1.44799625 -0.3315769  -1.84147189 -0.69330889 -0.26051296]\n",
            " ...\n",
            " [-1.14515662  1.33076839  1.51900328  0.10665229  0.78374449  1.90134005]\n",
            " [ 0.1422362   0.02586352 -0.26149032  0.07626311  0.85473127  1.1878939 ]\n",
            " [ 1.9313977   2.23401114 -0.28683521  0.53703455  1.63440564  0.57122663]]\n",
            "Label:  [1 1 1 1 1 0 0 0 1 1 1 1 0 1 1 1 1 0 0 1 0 0 1 1 1 1 0 1 1 0 1 1 0 0 1 1 0\n",
            " 1 1 0 1 0 1 0 1 0 0 0 1 0 1 0 1 1 0 1 0 0 0 0 1 0 1 1 0 0 0 0 1 1 0 1 1 0\n",
            " 1 1 1 0 0 0 0 0 0 1 0 0 0 1 0 1 0 1 0 0 0 0 1 0 0 1 0 0 0 0 0 1 0 1 0 0 0\n",
            " 0 0 1 0 0 0 0 1 1 0 0 1 1 0 1 0 0 0 1 0 1 0 0 1 0 0 0 0 1 1 0 1 0 1 0 1 1\n",
            " 0 0 1 0 0 1 0 0 0 0 1 1 1 1 1 0 1 1 0 1 0 1 0 1 1 0 0 1 0 1 1 1 1 1 0 0 0\n",
            " 1 0 0 1 1 0 0 0 0 0 0 0 0 1 1 0 1 0 0 0 1 0 0 0 1 1 1 0 0 0 0 1 0 0 0 1 0\n",
            " 1 0 1 0 0 1 0 0 0 0 0 0 0 1 1 0 1 1 1 1 0 0 0 0 1 0 1 1 0 0 1 0 1 1 1 0 0\n",
            " 1 1 1 1 0 0 1 1 1 0 1 1 0 0 0 0 1 1 0 1 0 1 0 1 0 1 0 1 1 0 1 0 0 1 0 0 0\n",
            " 0 1 0 0 1 1 0 1 1 1 0 0 1 0 1 0 0 0 1 1 1 1 1 0 1 0 0 0 1 0 1 1 0 1 1 1 0\n",
            " 1 1 1 0 0 1 1 0 1 1 1 1 1 0 0 0 1 1 1 1 0 1 1 1 0 0 1 0 1 0 0 0 1 1 1 0 0\n",
            " 0 1 1 1 1 0 0 0 0 0 0 1 1 0 1 1 0 0 1 1 1 1 1 1 0 1 0 0 1 0 1 1 1 1 0 0 0\n",
            " 0 1 0 1 1 1 0 0 1 1 0 0 1 1 0 0 0 1 1 1 0 1 0 1 0 0 1 0 0 0 1 0 1 1 0 0 1\n",
            " 1 0 1 1 1 1 0 0 0 0 0 1 0 1 1 0 1 1 0 1 1 0 1 0 1 1 1 1 1 1 0 0 1 0 1 1 1\n",
            " 0 0 1 1 0 0 1 1 0 0 1 0 0 0 1 1 1 1 1 0 0 0 0 0 1 1 0 1 0 0 1 0 0 1 1 1 0\n",
            " 1 0 0 1 0 1 0 0 0 1 1 1 1 1 1 0 0 0 0 0 1 1 1 0 0 1 1 1 0 0 0 1 1 0 1 0 1\n",
            " 1 0 0 1 1 0 1 0 0 1 1 1 1 0 1 1 1 0 0 1 1 0 0 0 1 0 1 1 1 0 0 1 0 0 1 1 0\n",
            " 0 1 1 1 1 1 1 1 0 0 1 1 0 1 1 0 0 1 1 0 1 1 1 0 1 0 1 1 1 0 1 0 0 0 0 1 0\n",
            " 1 0 1 0 0 0 0 0 0 1 1 0 1 1 0 1 1 1 0 1 0 0 1 1 0 0 0 1 1 0 0 1 1 1 0 1 0\n",
            " 0 1 0 0 1 1 0 0 1 0 1 1 1 0 0 1 1 0 0 0 0 1 1 0 0 0 1 0 1 1 0 0 0 0 0 1 1\n",
            " 0 1 0 0 0 0 1 0 1 0 1 1 1 0 1 0 1 1 0 0 1 0 1 1 0 0 0 0 1 0 0 0 0 1 1 1 1\n",
            " 1 0 0 0 1 1 1 0 1 1 0 1 0 1 1 1 0 1 1 1 1 0 0 1 1 1 1 1 1 0 0 0 1 1 0 0 0\n",
            " 0 0 1 1 0 0 1 1 0 0 1 0 0 1 1 0 1 1 0 0 1 1 1]\n"
          ],
          "name": "stdout"
        }
      ]
    },
    {
      "cell_type": "markdown",
      "metadata": {
        "id": "HNwrgNamfUmF"
      },
      "source": [
        "### **Import Library**"
      ]
    },
    {
      "cell_type": "code",
      "metadata": {
        "id": "tpiZHwB9gJOj"
      },
      "source": [
        "from sklearn.model_selection import train_test_split"
      ],
      "execution_count": 21,
      "outputs": []
    },
    {
      "cell_type": "markdown",
      "metadata": {
        "id": "4i3eu-JVfc2b"
      },
      "source": [
        "### **Data Split**\n",
        "\n",
        "train : 70% , test= 30%"
      ]
    },
    {
      "cell_type": "code",
      "metadata": {
        "id": "QRvloKDtfjjR"
      },
      "source": [
        "X_train, X_test,y_train, y_test = train_test_split(X, y, test_size=0.3)"
      ],
      "execution_count": 51,
      "outputs": []
    },
    {
      "cell_type": "code",
      "metadata": {
        "colab": {
          "base_uri": "https://localhost:8080/"
        },
        "id": "0_AgvNg4Xkzb",
        "outputId": "73501f52-cbc3-4e15-fb0f-970e46ea0633"
      },
      "source": [
        "X_train.shape , y_train.shape"
      ],
      "execution_count": 25,
      "outputs": [
        {
          "output_type": "execute_result",
          "data": {
            "text/plain": [
              "((560, 6), (240, 6))"
            ]
          },
          "metadata": {
            "tags": []
          },
          "execution_count": 25
        }
      ]
    },
    {
      "cell_type": "markdown",
      "metadata": {
        "id": "i-3N01_KZavm"
      },
      "source": [
        "### **Build Models**"
      ]
    },
    {
      "cell_type": "markdown",
      "metadata": {
        "id": "yHyGacSNZjfL"
      },
      "source": [
        "### **Import Library**"
      ]
    },
    {
      "cell_type": "code",
      "metadata": {
        "id": "_WyJiQ7HYXbr"
      },
      "source": [
        "import pandas as pd\n",
        "\n",
        "from sklearn.neural_network import MLPClassifier\n",
        "from sklearn.neighbors import KNeighborsClassifier \n",
        "from sklearn.svm import SVC \n",
        "from sklearn.gaussian_process import GaussianProcessClassifier \n",
        "from sklearn.ensemble import GradientBoostingClassifier, RandomForestClassifier, AdaBoostClassifier\n",
        "from sklearn.gaussian_process.kernels import RBF \n",
        "from sklearn.tree import DecisionTreeClassifier \n",
        "from sklearn.naive_bayes import GaussianNB \n",
        "from sklearn.discriminant_analysis import QuadraticDiscriminantAnalysis\n",
        "from sklearn.linear_model import SGDClassifier\n",
        "from sklearn.ensemble import ExtraTreesClassifier"
      ],
      "execution_count": 40,
      "outputs": []
    },
    {
      "cell_type": "markdown",
      "metadata": {
        "id": "KPo8HyBucGDf"
      },
      "source": [
        "### **Define Learning Classifiers**"
      ]
    },
    {
      "cell_type": "code",
      "metadata": {
        "id": "R5BVLFy5ZgYp"
      },
      "source": [
        "names = [\"Nearest_Neighbors\", \"Linear_SVM\", \"Polynomial_SVM\", \"RBF_SVM\", \"Gaussian_Process\",\n",
        "         \"Gradient_Boosting\", \"Decision_Tree\", \"Extra_Trees\", \"Random_Forest\", \"Neural_Net\", \"AdaBoost\",\n",
        "         \"Naive_Bayes\", \"QDA\", \"SGD\"]\n",
        "\n",
        "classifiers = [\n",
        "      KNeighborsClassifier(3),\n",
        "      SVC(kernel='rbf', C=1, gamma=2),\n",
        "      SVC(kernel='linear',C=0.025),\n",
        "      SVC(kernel='poly', degree=3, C=0.025),\n",
        "      GaussianProcessClassifier(1.0 * RBF(1.0)),\n",
        "      GradientBoostingClassifier(n_estimators=100, learning_rate=1.0),\n",
        "      DecisionTreeClassifier(max_depth=5),\n",
        "      ExtraTreesClassifier(n_estimators=10, min_samples_split=2),\n",
        "      RandomForestClassifier(max_depth=5, n_estimators=100),\n",
        "      MLPClassifier(alpha=1, max_iter=1000),\n",
        "      AdaBoostClassifier(n_estimators=100),\n",
        "      GaussianNB(),\n",
        "      QuadraticDiscriminantAnalysis(),\n",
        "      SGDClassifier(loss='hinge', penalty='l2')]\n"
      ],
      "execution_count": 45,
      "outputs": []
    },
    {
      "cell_type": "markdown",
      "metadata": {
        "id": "2eMEvoAzi8mk"
      },
      "source": [
        "### **Build Model, and apply model on test data**"
      ]
    },
    {
      "cell_type": "code",
      "metadata": {
        "id": "8Kurd70AiWy0"
      },
      "source": [
        "scores = []\n",
        "\n",
        "for name, Clf in zip(names, classifiers):\n",
        "  Clf.fit(X_train, y_train)\n",
        "  score= Clf.score(X_test, y_test)\n",
        "  scores.append(score)"
      ],
      "execution_count": 52,
      "outputs": []
    },
    {
      "cell_type": "code",
      "metadata": {
        "colab": {
          "base_uri": "https://localhost:8080/"
        },
        "id": "nW15Flkxozh6",
        "outputId": "65bc8618-c3ba-40e8-e9df-1aa53a68e264"
      },
      "source": [
        "scores"
      ],
      "execution_count": 53,
      "outputs": [
        {
          "output_type": "execute_result",
          "data": {
            "text/plain": [
              "[0.9125,\n",
              " 0.8291666666666667,\n",
              " 0.9083333333333333,\n",
              " 0.85,\n",
              " 0.9125,\n",
              " 0.9166666666666666,\n",
              " 0.9333333333333333,\n",
              " 0.9041666666666667,\n",
              " 0.9291666666666667,\n",
              " 0.9166666666666666,\n",
              " 0.9041666666666667,\n",
              " 0.9125,\n",
              " 0.8916666666666667,\n",
              " 0.8458333333333333]"
            ]
          },
          "metadata": {
            "tags": []
          },
          "execution_count": 53
        }
      ]
    }
  ]
}