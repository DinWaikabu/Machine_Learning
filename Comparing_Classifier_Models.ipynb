{
  "nbformat": 4,
  "nbformat_minor": 0,
  "metadata": {
    "colab": {
      "name": "Comparing Classifier for Building Clasification Models.ipynb",
      "provenance": [],
      "toc_visible": true,
      "authorship_tag": "ABX9TyN8iv+GfkSzaKl44hZ9BmXy",
      "include_colab_link": true
    },
    "kernelspec": {
      "name": "python3",
      "display_name": "Python 3"
    }
  },
  "cells": [
    {
      "cell_type": "markdown",
      "metadata": {
        "id": "view-in-github",
        "colab_type": "text"
      },
      "source": [
        "<a href=\"https://colab.research.google.com/github/DinWaikabu/Machine_Learning/blob/master/Comparing_Classifier_Models.ipynb\" target=\"_parent\"><img src=\"https://colab.research.google.com/assets/colab-badge.svg\" alt=\"Open In Colab\"/></a>"
      ]
    },
    {
      "cell_type": "markdown",
      "metadata": {
        "id": "T2XVIkSPeEwI"
      },
      "source": [
        "## Comparing Classifier for Building Clasification Models\n",
        "\n",
        "Source from : [ https://scikit-learn.org/stable/auto_examples/classification/plot_classifier_comparison.html]"
      ]
    },
    {
      "cell_type": "markdown",
      "metadata": {
        "id": "eDtjLmPbhzel"
      },
      "source": [
        "### **Import Library**"
      ]
    },
    {
      "cell_type": "code",
      "metadata": {
        "id": "Y9z_LL_XeSfI"
      },
      "source": [
        "from sklearn.datasets import  make_classification"
      ],
      "execution_count": 1,
      "outputs": []
    },
    {
      "cell_type": "markdown",
      "metadata": {
        "id": "POvMUQ7QT2pk"
      },
      "source": [
        "###**Generate dataset**"
      ]
    },
    {
      "cell_type": "code",
      "metadata": {
        "id": "jUjfUiL3UJ2r"
      },
      "source": [
        "X, y = make_classification(n_samples=800, n_classes=2 ,n_features=6, n_redundant=0, random_state=0)"
      ],
      "execution_count": 2,
      "outputs": []
    },
    {
      "cell_type": "markdown",
      "metadata": {
        "id": "8F-3gTrcVaWb"
      },
      "source": [
        "#### Dimensi dataset"
      ]
    },
    {
      "cell_type": "code",
      "metadata": {
        "colab": {
          "base_uri": "https://localhost:8080/"
        },
        "id": "y6h6GiSQVTqz",
        "outputId": "7c2f82c2-fca3-4d89-84e5-f26e50961170"
      },
      "source": [
        "X.shape, y.shape"
      ],
      "execution_count": 3,
      "outputs": [
        {
          "output_type": "execute_result",
          "data": {
            "text/plain": [
              "((800, 6), (800,))"
            ]
          },
          "metadata": {
            "tags": []
          },
          "execution_count": 3
        }
      ]
    },
    {
      "cell_type": "code",
      "metadata": {
        "colab": {
          "base_uri": "https://localhost:8080/"
        },
        "id": "KPp4I3x9U0Re",
        "outputId": "d54ed6e9-2f00-4c3b-d16f-1de978675c57"
      },
      "source": [
        "print(\"features : \", X)\n",
        "print(\"Label: \", y)"
      ],
      "execution_count": 4,
      "outputs": [
        {
          "output_type": "stream",
          "text": [
            "features :  [[-1.08424537  1.07371211  0.63658677  1.43144325 -0.06656285  0.03232998]\n",
            " [-0.68105767 -0.03820798 -0.98045925  0.15706946 -0.56776724 -0.59115967]\n",
            " [ 2.2301304   1.44799625 -0.3315769  -1.84147189 -0.69330889 -0.26051296]\n",
            " ...\n",
            " [-1.14515662  1.33076839  1.51900328  0.10665229  0.78374449  1.90134005]\n",
            " [ 0.1422362   0.02586352 -0.26149032  0.07626311  0.85473127  1.1878939 ]\n",
            " [ 1.9313977   2.23401114 -0.28683521  0.53703455  1.63440564  0.57122663]]\n",
            "Label:  [1 1 1 1 1 0 0 0 1 1 1 1 0 1 1 1 1 0 0 1 0 0 1 1 1 1 0 1 1 0 1 1 0 0 1 1 0\n",
            " 1 1 0 1 0 1 0 1 0 0 0 1 0 1 0 1 1 0 1 0 0 0 0 1 0 1 1 0 0 0 0 1 1 0 1 1 0\n",
            " 1 1 1 0 0 0 0 0 0 1 0 0 0 1 0 1 0 1 0 0 0 0 1 0 0 1 0 0 0 0 0 1 0 1 0 0 0\n",
            " 0 0 1 0 0 0 0 1 1 0 0 1 1 0 1 0 0 0 1 0 1 0 0 1 0 0 0 0 1 1 0 1 0 1 0 1 1\n",
            " 0 0 1 0 0 1 0 0 0 0 1 1 1 1 1 0 1 1 0 1 0 1 0 1 1 0 0 1 0 1 1 1 1 1 0 0 0\n",
            " 1 0 0 1 1 0 0 0 0 0 0 0 0 1 1 0 1 0 0 0 1 0 0 0 1 1 1 0 0 0 0 1 0 0 0 1 0\n",
            " 1 0 1 0 0 1 0 0 0 0 0 0 0 1 1 0 1 1 1 1 0 0 0 0 1 0 1 1 0 0 1 0 1 1 1 0 0\n",
            " 1 1 1 1 0 0 1 1 1 0 1 1 0 0 0 0 1 1 0 1 0 1 0 1 0 1 0 1 1 0 1 0 0 1 0 0 0\n",
            " 0 1 0 0 1 1 0 1 1 1 0 0 1 0 1 0 0 0 1 1 1 1 1 0 1 0 0 0 1 0 1 1 0 1 1 1 0\n",
            " 1 1 1 0 0 1 1 0 1 1 1 1 1 0 0 0 1 1 1 1 0 1 1 1 0 0 1 0 1 0 0 0 1 1 1 0 0\n",
            " 0 1 1 1 1 0 0 0 0 0 0 1 1 0 1 1 0 0 1 1 1 1 1 1 0 1 0 0 1 0 1 1 1 1 0 0 0\n",
            " 0 1 0 1 1 1 0 0 1 1 0 0 1 1 0 0 0 1 1 1 0 1 0 1 0 0 1 0 0 0 1 0 1 1 0 0 1\n",
            " 1 0 1 1 1 1 0 0 0 0 0 1 0 1 1 0 1 1 0 1 1 0 1 0 1 1 1 1 1 1 0 0 1 0 1 1 1\n",
            " 0 0 1 1 0 0 1 1 0 0 1 0 0 0 1 1 1 1 1 0 0 0 0 0 1 1 0 1 0 0 1 0 0 1 1 1 0\n",
            " 1 0 0 1 0 1 0 0 0 1 1 1 1 1 1 0 0 0 0 0 1 1 1 0 0 1 1 1 0 0 0 1 1 0 1 0 1\n",
            " 1 0 0 1 1 0 1 0 0 1 1 1 1 0 1 1 1 0 0 1 1 0 0 0 1 0 1 1 1 0 0 1 0 0 1 1 0\n",
            " 0 1 1 1 1 1 1 1 0 0 1 1 0 1 1 0 0 1 1 0 1 1 1 0 1 0 1 1 1 0 1 0 0 0 0 1 0\n",
            " 1 0 1 0 0 0 0 0 0 1 1 0 1 1 0 1 1 1 0 1 0 0 1 1 0 0 0 1 1 0 0 1 1 1 0 1 0\n",
            " 0 1 0 0 1 1 0 0 1 0 1 1 1 0 0 1 1 0 0 0 0 1 1 0 0 0 1 0 1 1 0 0 0 0 0 1 1\n",
            " 0 1 0 0 0 0 1 0 1 0 1 1 1 0 1 0 1 1 0 0 1 0 1 1 0 0 0 0 1 0 0 0 0 1 1 1 1\n",
            " 1 0 0 0 1 1 1 0 1 1 0 1 0 1 1 1 0 1 1 1 1 0 0 1 1 1 1 1 1 0 0 0 1 1 0 0 0\n",
            " 0 0 1 1 0 0 1 1 0 0 1 0 0 1 1 0 1 1 0 0 1 1 1]\n"
          ],
          "name": "stdout"
        }
      ]
    },
    {
      "cell_type": "markdown",
      "metadata": {
        "id": "HNwrgNamfUmF"
      },
      "source": [
        "### **Import Library**"
      ]
    },
    {
      "cell_type": "code",
      "metadata": {
        "id": "tpiZHwB9gJOj"
      },
      "source": [
        "from sklearn.model_selection import train_test_split"
      ],
      "execution_count": 5,
      "outputs": []
    },
    {
      "cell_type": "markdown",
      "metadata": {
        "id": "4i3eu-JVfc2b"
      },
      "source": [
        "### **Data Split**\n",
        "\n",
        "train : 70% , test= 30%"
      ]
    },
    {
      "cell_type": "code",
      "metadata": {
        "id": "QRvloKDtfjjR"
      },
      "source": [
        "X_train, X_test,y_train, y_test = train_test_split(X, y, test_size=0.3)"
      ],
      "execution_count": 6,
      "outputs": []
    },
    {
      "cell_type": "code",
      "metadata": {
        "colab": {
          "base_uri": "https://localhost:8080/"
        },
        "id": "0_AgvNg4Xkzb",
        "outputId": "74b05c57-b051-413f-b0fd-b807dabb37fa"
      },
      "source": [
        "X_train.shape , y_train.shape"
      ],
      "execution_count": 7,
      "outputs": [
        {
          "output_type": "execute_result",
          "data": {
            "text/plain": [
              "((560, 6), (560,))"
            ]
          },
          "metadata": {
            "tags": []
          },
          "execution_count": 7
        }
      ]
    },
    {
      "cell_type": "markdown",
      "metadata": {
        "id": "i-3N01_KZavm"
      },
      "source": [
        "### **Build Models**"
      ]
    },
    {
      "cell_type": "markdown",
      "metadata": {
        "id": "yHyGacSNZjfL"
      },
      "source": [
        "### **Import Library**"
      ]
    },
    {
      "cell_type": "code",
      "metadata": {
        "id": "_WyJiQ7HYXbr"
      },
      "source": [
        "import pandas as pd\n",
        "\n",
        "from sklearn.neural_network import MLPClassifier\n",
        "from sklearn.neighbors import KNeighborsClassifier \n",
        "from sklearn.svm import SVC \n",
        "from sklearn.gaussian_process import GaussianProcessClassifier \n",
        "from sklearn.ensemble import GradientBoostingClassifier, RandomForestClassifier, AdaBoostClassifier\n",
        "from sklearn.gaussian_process.kernels import RBF \n",
        "from sklearn.tree import DecisionTreeClassifier \n",
        "from sklearn.naive_bayes import GaussianNB \n",
        "from sklearn.discriminant_analysis import QuadraticDiscriminantAnalysis\n",
        "from sklearn.linear_model import SGDClassifier\n",
        "from sklearn.ensemble import ExtraTreesClassifier"
      ],
      "execution_count": 8,
      "outputs": []
    },
    {
      "cell_type": "markdown",
      "metadata": {
        "id": "KPo8HyBucGDf"
      },
      "source": [
        "### **Define Learning Classifiers**"
      ]
    },
    {
      "cell_type": "code",
      "metadata": {
        "id": "R5BVLFy5ZgYp"
      },
      "source": [
        "names = [\"Nearest_Neighbors\", \"Linear_SVM\", \"Polynomial_SVM\", \"RBF_SVM\", \"Gaussian_Process\",\n",
        "         \"Gradient_Boosting\", \"Decision_Tree\", \"Extra_Trees\", \"Random_Forest\", \"Neural_Net\", \"AdaBoost\",\n",
        "         \"Naive_Bayes\", \"QDA\", \"SGD\"]\n",
        "\n",
        "classifiers = [\n",
        "      KNeighborsClassifier(3),\n",
        "      SVC(kernel='rbf', C=1, gamma=2),\n",
        "      SVC(kernel='linear',C=0.025),\n",
        "      SVC(kernel='poly', degree=3, C=0.025),\n",
        "      GaussianProcessClassifier(1.0 * RBF(1.0)),\n",
        "      GradientBoostingClassifier(n_estimators=100, learning_rate=1.0),\n",
        "      DecisionTreeClassifier(max_depth=5),\n",
        "      ExtraTreesClassifier(n_estimators=10, min_samples_split=2),\n",
        "      RandomForestClassifier(max_depth=5, n_estimators=100),\n",
        "      MLPClassifier(alpha=1, max_iter=1000),\n",
        "      AdaBoostClassifier(n_estimators=100),\n",
        "      GaussianNB(),\n",
        "      QuadraticDiscriminantAnalysis(),\n",
        "      SGDClassifier(loss='hinge', penalty='l2')]\n"
      ],
      "execution_count": 9,
      "outputs": []
    },
    {
      "cell_type": "markdown",
      "metadata": {
        "id": "2eMEvoAzi8mk"
      },
      "source": [
        "### **Build Model, and apply model on test data**"
      ]
    },
    {
      "cell_type": "code",
      "metadata": {
        "id": "8Kurd70AiWy0"
      },
      "source": [
        "scores = []\n",
        "\n",
        "for name, Clf in zip(names, classifiers):\n",
        "  Clf.fit(X_train, y_train)\n",
        "  score= Clf.score(X_test, y_test)\n",
        "  scores.append(score)"
      ],
      "execution_count": 10,
      "outputs": []
    },
    {
      "cell_type": "code",
      "metadata": {
        "id": "nW15Flkxozh6",
        "colab": {
          "base_uri": "https://localhost:8080/"
        },
        "outputId": "a867fa9e-62e5-4daa-e909-8a5ebbe87809"
      },
      "source": [
        "scores"
      ],
      "execution_count": 11,
      "outputs": [
        {
          "output_type": "execute_result",
          "data": {
            "text/plain": [
              "[0.8875,\n",
              " 0.9,\n",
              " 0.9166666666666666,\n",
              " 0.7875,\n",
              " 0.9333333333333333,\n",
              " 0.9125,\n",
              " 0.925,\n",
              " 0.9291666666666667,\n",
              " 0.9416666666666667,\n",
              " 0.9375,\n",
              " 0.9,\n",
              " 0.9083333333333333,\n",
              " 0.9083333333333333,\n",
              " 0.875]"
            ]
          },
          "metadata": {
            "tags": []
          },
          "execution_count": 11
        }
      ]
    },
    {
      "cell_type": "markdown",
      "metadata": {
        "id": "M6YHMNz-o1y_"
      },
      "source": [
        "### **Analysis Models**"
      ]
    },
    {
      "cell_type": "markdown",
      "metadata": {
        "id": "Ws_EYyQSpDmP"
      },
      "source": [
        "#### **Import Library**"
      ]
    },
    {
      "cell_type": "code",
      "metadata": {
        "id": "hkAmEtQeojP6"
      },
      "source": [
        "import seaborn as sns\n",
        "import matplotlib.pyplot as plt "
      ],
      "execution_count": 18,
      "outputs": []
    },
    {
      "cell_type": "code",
      "metadata": {
        "id": "MPkUoZEppMZm"
      },
      "source": [
        "df = pd.DataFrame()"
      ],
      "execution_count": 14,
      "outputs": []
    },
    {
      "cell_type": "code",
      "metadata": {
        "id": "KWRy8isRpSJh"
      },
      "source": [
        "df['name'] = names\n",
        "df['score'] = scores "
      ],
      "execution_count": 16,
      "outputs": []
    },
    {
      "cell_type": "code",
      "metadata": {
        "colab": {
          "base_uri": "https://localhost:8080/",
          "height": 466
        },
        "id": "CmC50379pWNq",
        "outputId": "34944f0c-4177-43c0-bbcf-c61e85371928"
      },
      "source": [
        "df"
      ],
      "execution_count": 17,
      "outputs": [
        {
          "output_type": "execute_result",
          "data": {
            "text/html": [
              "<div>\n",
              "<style scoped>\n",
              "    .dataframe tbody tr th:only-of-type {\n",
              "        vertical-align: middle;\n",
              "    }\n",
              "\n",
              "    .dataframe tbody tr th {\n",
              "        vertical-align: top;\n",
              "    }\n",
              "\n",
              "    .dataframe thead th {\n",
              "        text-align: right;\n",
              "    }\n",
              "</style>\n",
              "<table border=\"1\" class=\"dataframe\">\n",
              "  <thead>\n",
              "    <tr style=\"text-align: right;\">\n",
              "      <th></th>\n",
              "      <th>name</th>\n",
              "      <th>score</th>\n",
              "    </tr>\n",
              "  </thead>\n",
              "  <tbody>\n",
              "    <tr>\n",
              "      <th>0</th>\n",
              "      <td>Nearest_Neighbors</td>\n",
              "      <td>0.887500</td>\n",
              "    </tr>\n",
              "    <tr>\n",
              "      <th>1</th>\n",
              "      <td>Linear_SVM</td>\n",
              "      <td>0.900000</td>\n",
              "    </tr>\n",
              "    <tr>\n",
              "      <th>2</th>\n",
              "      <td>Polynomial_SVM</td>\n",
              "      <td>0.916667</td>\n",
              "    </tr>\n",
              "    <tr>\n",
              "      <th>3</th>\n",
              "      <td>RBF_SVM</td>\n",
              "      <td>0.787500</td>\n",
              "    </tr>\n",
              "    <tr>\n",
              "      <th>4</th>\n",
              "      <td>Gaussian_Process</td>\n",
              "      <td>0.933333</td>\n",
              "    </tr>\n",
              "    <tr>\n",
              "      <th>5</th>\n",
              "      <td>Gradient_Boosting</td>\n",
              "      <td>0.912500</td>\n",
              "    </tr>\n",
              "    <tr>\n",
              "      <th>6</th>\n",
              "      <td>Decision_Tree</td>\n",
              "      <td>0.925000</td>\n",
              "    </tr>\n",
              "    <tr>\n",
              "      <th>7</th>\n",
              "      <td>Extra_Trees</td>\n",
              "      <td>0.929167</td>\n",
              "    </tr>\n",
              "    <tr>\n",
              "      <th>8</th>\n",
              "      <td>Random_Forest</td>\n",
              "      <td>0.941667</td>\n",
              "    </tr>\n",
              "    <tr>\n",
              "      <th>9</th>\n",
              "      <td>Neural_Net</td>\n",
              "      <td>0.937500</td>\n",
              "    </tr>\n",
              "    <tr>\n",
              "      <th>10</th>\n",
              "      <td>AdaBoost</td>\n",
              "      <td>0.900000</td>\n",
              "    </tr>\n",
              "    <tr>\n",
              "      <th>11</th>\n",
              "      <td>Naive_Bayes</td>\n",
              "      <td>0.908333</td>\n",
              "    </tr>\n",
              "    <tr>\n",
              "      <th>12</th>\n",
              "      <td>QDA</td>\n",
              "      <td>0.908333</td>\n",
              "    </tr>\n",
              "    <tr>\n",
              "      <th>13</th>\n",
              "      <td>SGD</td>\n",
              "      <td>0.875000</td>\n",
              "    </tr>\n",
              "  </tbody>\n",
              "</table>\n",
              "</div>"
            ],
            "text/plain": [
              "                 name     score\n",
              "0   Nearest_Neighbors  0.887500\n",
              "1          Linear_SVM  0.900000\n",
              "2      Polynomial_SVM  0.916667\n",
              "3             RBF_SVM  0.787500\n",
              "4    Gaussian_Process  0.933333\n",
              "5   Gradient_Boosting  0.912500\n",
              "6       Decision_Tree  0.925000\n",
              "7         Extra_Trees  0.929167\n",
              "8       Random_Forest  0.941667\n",
              "9          Neural_Net  0.937500\n",
              "10           AdaBoost  0.900000\n",
              "11        Naive_Bayes  0.908333\n",
              "12                QDA  0.908333\n",
              "13                SGD  0.875000"
            ]
          },
          "metadata": {
            "tags": []
          },
          "execution_count": 17
        }
      ]
    },
    {
      "cell_type": "markdown",
      "metadata": {
        "id": "21gTiARxqPxm"
      },
      "source": [
        "### **plot models**"
      ]
    },
    {
      "cell_type": "code",
      "metadata": {
        "colab": {
          "base_uri": "https://localhost:8080/",
          "height": 296
        },
        "id": "r-HP5v9Lpn0o",
        "outputId": "5bd57419-c107-4636-badc-9c3baf151ebb"
      },
      "source": [
        "sns.set_style('whitegrid')\n",
        "sns.barplot(y='name', x='score', data=df)"
      ],
      "execution_count": 22,
      "outputs": [
        {
          "output_type": "execute_result",
          "data": {
            "text/plain": [
              "<matplotlib.axes._subplots.AxesSubplot at 0x7f95a56ad750>"
            ]
          },
          "metadata": {
            "tags": []
          },
          "execution_count": 22
        },
        {
          "output_type": "display_data",
          "data": {
            "image/png": "[encoded data removed]",
            "text/plain": [
              "<Figure size 432x288 with 1 Axes>"
            ]
          },
          "metadata": {
            "tags": []
          }
        }
      ]
    },
    {
      "cell_type": "code",
      "metadata": {
        "id": "BP12aQHtp1yZ"
      },
      "source": [
        ""
      ],
      "execution_count": null,
      "outputs": []
    }
  ]
}